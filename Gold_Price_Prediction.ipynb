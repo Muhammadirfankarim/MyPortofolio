{
 "cells": [
  {
   "cell_type": "markdown",
   "metadata": {
    "id": "i1h7LAlVa7Gu"
   },
   "source": [
    "Importing the Libraries"
   ]
  },
  {
   "cell_type": "code",
   "execution_count": 1,
   "metadata": {
    "id": "d2o7jdWHXE6K"
   },
   "outputs": [],
   "source": [
    "import numpy as np\n",
    "import pandas as pd\n",
    "import matplotlib.pyplot as plt\n",
    "import seaborn as sns\n",
    "from sklearn.model_selection import train_test_split\n",
    "from sklearn.ensemble import RandomForestRegressor\n",
    "from sklearn import metrics"
   ]
  },
  {
   "cell_type": "markdown",
   "metadata": {
    "id": "Y1jC584Mbd4Q"
   },
   "source": [
    "Data Collection and Processing"
   ]
  },
  {
   "cell_type": "code",
   "execution_count": 2,
   "metadata": {
    "id": "BQtjCTzHbZQO"
   },
   "outputs": [],
   "source": [
    "# loading the csv data to a Pandas DataFrame\n",
    "gold_data = pd.read_csv('D:/dataset/Gold Price/gold_price_data.csv')"
   ]
  },
  {
   "cell_type": "code",
   "execution_count": 3,
   "metadata": {
    "colab": {
     "base_uri": "https://localhost:8080/",
     "height": 198
    },
    "id": "S5xeeB9LbyA9",
    "outputId": "a80fe09f-64e8-449d-b8d2-01a2b8919b82"
   },
   "outputs": [
    {
     "data": {
      "text/html": [
       "<div>\n",
       "<style scoped>\n",
       "    .dataframe tbody tr th:only-of-type {\n",
       "        vertical-align: middle;\n",
       "    }\n",
       "\n",
       "    .dataframe tbody tr th {\n",
       "        vertical-align: top;\n",
       "    }\n",
       "\n",
       "    .dataframe thead th {\n",
       "        text-align: right;\n",
       "    }\n",
       "</style>\n",
       "<table border=\"1\" class=\"dataframe\">\n",
       "  <thead>\n",
       "    <tr style=\"text-align: right;\">\n",
       "      <th></th>\n",
       "      <th>Date</th>\n",
       "      <th>SPX</th>\n",
       "      <th>GLD</th>\n",
       "      <th>USO</th>\n",
       "      <th>SLV</th>\n",
       "      <th>EUR/USD</th>\n",
       "    </tr>\n",
       "  </thead>\n",
       "  <tbody>\n",
       "    <tr>\n",
       "      <th>0</th>\n",
       "      <td>1/2/2008</td>\n",
       "      <td>1447.160034</td>\n",
       "      <td>84.860001</td>\n",
       "      <td>78.470001</td>\n",
       "      <td>15.180</td>\n",
       "      <td>1.471692</td>\n",
       "    </tr>\n",
       "    <tr>\n",
       "      <th>1</th>\n",
       "      <td>1/3/2008</td>\n",
       "      <td>1447.160034</td>\n",
       "      <td>85.570000</td>\n",
       "      <td>78.370003</td>\n",
       "      <td>15.285</td>\n",
       "      <td>1.474491</td>\n",
       "    </tr>\n",
       "    <tr>\n",
       "      <th>2</th>\n",
       "      <td>1/4/2008</td>\n",
       "      <td>1411.630005</td>\n",
       "      <td>85.129997</td>\n",
       "      <td>77.309998</td>\n",
       "      <td>15.167</td>\n",
       "      <td>1.475492</td>\n",
       "    </tr>\n",
       "    <tr>\n",
       "      <th>3</th>\n",
       "      <td>1/7/2008</td>\n",
       "      <td>1416.180054</td>\n",
       "      <td>84.769997</td>\n",
       "      <td>75.500000</td>\n",
       "      <td>15.053</td>\n",
       "      <td>1.468299</td>\n",
       "    </tr>\n",
       "    <tr>\n",
       "      <th>4</th>\n",
       "      <td>1/8/2008</td>\n",
       "      <td>1390.189941</td>\n",
       "      <td>86.779999</td>\n",
       "      <td>76.059998</td>\n",
       "      <td>15.590</td>\n",
       "      <td>1.557099</td>\n",
       "    </tr>\n",
       "  </tbody>\n",
       "</table>\n",
       "</div>"
      ],
      "text/plain": [
       "       Date          SPX        GLD        USO     SLV   EUR/USD\n",
       "0  1/2/2008  1447.160034  84.860001  78.470001  15.180  1.471692\n",
       "1  1/3/2008  1447.160034  85.570000  78.370003  15.285  1.474491\n",
       "2  1/4/2008  1411.630005  85.129997  77.309998  15.167  1.475492\n",
       "3  1/7/2008  1416.180054  84.769997  75.500000  15.053  1.468299\n",
       "4  1/8/2008  1390.189941  86.779999  76.059998  15.590  1.557099"
      ]
     },
     "execution_count": 3,
     "metadata": {},
     "output_type": "execute_result"
    }
   ],
   "source": [
    "# print first 5 rows in the dataframe\n",
    "gold_data.head()"
   ]
  },
  {
   "cell_type": "code",
   "execution_count": 4,
   "metadata": {
    "colab": {
     "base_uri": "https://localhost:8080/",
     "height": 198
    },
    "id": "NrywfHOBb6HD",
    "outputId": "8167fc52-3dc2-4227-ba75-172e7e2c3b12"
   },
   "outputs": [
    {
     "data": {
      "text/html": [
       "<div>\n",
       "<style scoped>\n",
       "    .dataframe tbody tr th:only-of-type {\n",
       "        vertical-align: middle;\n",
       "    }\n",
       "\n",
       "    .dataframe tbody tr th {\n",
       "        vertical-align: top;\n",
       "    }\n",
       "\n",
       "    .dataframe thead th {\n",
       "        text-align: right;\n",
       "    }\n",
       "</style>\n",
       "<table border=\"1\" class=\"dataframe\">\n",
       "  <thead>\n",
       "    <tr style=\"text-align: right;\">\n",
       "      <th></th>\n",
       "      <th>Date</th>\n",
       "      <th>SPX</th>\n",
       "      <th>GLD</th>\n",
       "      <th>USO</th>\n",
       "      <th>SLV</th>\n",
       "      <th>EUR/USD</th>\n",
       "    </tr>\n",
       "  </thead>\n",
       "  <tbody>\n",
       "    <tr>\n",
       "      <th>2285</th>\n",
       "      <td>5/8/2018</td>\n",
       "      <td>2671.919922</td>\n",
       "      <td>124.589996</td>\n",
       "      <td>14.0600</td>\n",
       "      <td>15.5100</td>\n",
       "      <td>1.186789</td>\n",
       "    </tr>\n",
       "    <tr>\n",
       "      <th>2286</th>\n",
       "      <td>5/9/2018</td>\n",
       "      <td>2697.790039</td>\n",
       "      <td>124.330002</td>\n",
       "      <td>14.3700</td>\n",
       "      <td>15.5300</td>\n",
       "      <td>1.184722</td>\n",
       "    </tr>\n",
       "    <tr>\n",
       "      <th>2287</th>\n",
       "      <td>5/10/2018</td>\n",
       "      <td>2723.070068</td>\n",
       "      <td>125.180000</td>\n",
       "      <td>14.4100</td>\n",
       "      <td>15.7400</td>\n",
       "      <td>1.191753</td>\n",
       "    </tr>\n",
       "    <tr>\n",
       "      <th>2288</th>\n",
       "      <td>5/14/2018</td>\n",
       "      <td>2730.129883</td>\n",
       "      <td>124.489998</td>\n",
       "      <td>14.3800</td>\n",
       "      <td>15.5600</td>\n",
       "      <td>1.193118</td>\n",
       "    </tr>\n",
       "    <tr>\n",
       "      <th>2289</th>\n",
       "      <td>5/16/2018</td>\n",
       "      <td>2725.780029</td>\n",
       "      <td>122.543800</td>\n",
       "      <td>14.4058</td>\n",
       "      <td>15.4542</td>\n",
       "      <td>1.182033</td>\n",
       "    </tr>\n",
       "  </tbody>\n",
       "</table>\n",
       "</div>"
      ],
      "text/plain": [
       "           Date          SPX         GLD      USO      SLV   EUR/USD\n",
       "2285   5/8/2018  2671.919922  124.589996  14.0600  15.5100  1.186789\n",
       "2286   5/9/2018  2697.790039  124.330002  14.3700  15.5300  1.184722\n",
       "2287  5/10/2018  2723.070068  125.180000  14.4100  15.7400  1.191753\n",
       "2288  5/14/2018  2730.129883  124.489998  14.3800  15.5600  1.193118\n",
       "2289  5/16/2018  2725.780029  122.543800  14.4058  15.4542  1.182033"
      ]
     },
     "execution_count": 4,
     "metadata": {},
     "output_type": "execute_result"
    }
   ],
   "source": [
    "# print last 5 rows of the dataframe\n",
    "gold_data.tail()"
   ]
  },
  {
   "cell_type": "code",
   "execution_count": 5,
   "metadata": {
    "colab": {
     "base_uri": "https://localhost:8080/"
    },
    "id": "vgnDjvpocdUp",
    "outputId": "13fb521f-29a7-401a-fac6-c3a12ff3668b"
   },
   "outputs": [
    {
     "data": {
      "text/plain": [
       "(2290, 6)"
      ]
     },
     "execution_count": 5,
     "metadata": {},
     "output_type": "execute_result"
    }
   ],
   "source": [
    "# number of rows and columns\n",
    "gold_data.shape"
   ]
  },
  {
   "cell_type": "code",
   "execution_count": 6,
   "metadata": {
    "colab": {
     "base_uri": "https://localhost:8080/"
    },
    "id": "9SEXC4AWcnDu",
    "outputId": "6c660677-2c14-4caa-afef-085e130f3e2d"
   },
   "outputs": [
    {
     "name": "stdout",
     "output_type": "stream",
     "text": [
      "<class 'pandas.core.frame.DataFrame'>\n",
      "RangeIndex: 2290 entries, 0 to 2289\n",
      "Data columns (total 6 columns):\n",
      " #   Column   Non-Null Count  Dtype  \n",
      "---  ------   --------------  -----  \n",
      " 0   Date     2290 non-null   object \n",
      " 1   SPX      2290 non-null   float64\n",
      " 2   GLD      2290 non-null   float64\n",
      " 3   USO      2290 non-null   float64\n",
      " 4   SLV      2290 non-null   float64\n",
      " 5   EUR/USD  2290 non-null   float64\n",
      "dtypes: float64(5), object(1)\n",
      "memory usage: 107.5+ KB\n"
     ]
    }
   ],
   "source": [
    "# getting some basic informations about the data\n",
    "gold_data.info()"
   ]
  },
  {
   "cell_type": "code",
   "execution_count": 7,
   "metadata": {
    "colab": {
     "base_uri": "https://localhost:8080/"
    },
    "id": "tjmFVXi2cv4Q",
    "outputId": "2fa51b37-0af3-4ce0-963a-f48fba8e0a84"
   },
   "outputs": [
    {
     "data": {
      "text/plain": [
       "Date       0\n",
       "SPX        0\n",
       "GLD        0\n",
       "USO        0\n",
       "SLV        0\n",
       "EUR/USD    0\n",
       "dtype: int64"
      ]
     },
     "execution_count": 7,
     "metadata": {},
     "output_type": "execute_result"
    }
   ],
   "source": [
    "# checking the number of missing values\n",
    "gold_data.isnull().sum()"
   ]
  },
  {
   "cell_type": "code",
   "execution_count": 8,
   "metadata": {
    "colab": {
     "base_uri": "https://localhost:8080/",
     "height": 288
    },
    "id": "9IcOnRfhc7zv",
    "outputId": "fc921d3f-e836-4042-ed2c-e77ad4216e47"
   },
   "outputs": [
    {
     "data": {
      "text/html": [
       "<div>\n",
       "<style scoped>\n",
       "    .dataframe tbody tr th:only-of-type {\n",
       "        vertical-align: middle;\n",
       "    }\n",
       "\n",
       "    .dataframe tbody tr th {\n",
       "        vertical-align: top;\n",
       "    }\n",
       "\n",
       "    .dataframe thead th {\n",
       "        text-align: right;\n",
       "    }\n",
       "</style>\n",
       "<table border=\"1\" class=\"dataframe\">\n",
       "  <thead>\n",
       "    <tr style=\"text-align: right;\">\n",
       "      <th></th>\n",
       "      <th>SPX</th>\n",
       "      <th>GLD</th>\n",
       "      <th>USO</th>\n",
       "      <th>SLV</th>\n",
       "      <th>EUR/USD</th>\n",
       "    </tr>\n",
       "  </thead>\n",
       "  <tbody>\n",
       "    <tr>\n",
       "      <th>count</th>\n",
       "      <td>2290.000000</td>\n",
       "      <td>2290.000000</td>\n",
       "      <td>2290.000000</td>\n",
       "      <td>2290.000000</td>\n",
       "      <td>2290.000000</td>\n",
       "    </tr>\n",
       "    <tr>\n",
       "      <th>mean</th>\n",
       "      <td>1654.315776</td>\n",
       "      <td>122.732875</td>\n",
       "      <td>31.842221</td>\n",
       "      <td>20.084997</td>\n",
       "      <td>1.283653</td>\n",
       "    </tr>\n",
       "    <tr>\n",
       "      <th>std</th>\n",
       "      <td>519.111540</td>\n",
       "      <td>23.283346</td>\n",
       "      <td>19.523517</td>\n",
       "      <td>7.092566</td>\n",
       "      <td>0.131547</td>\n",
       "    </tr>\n",
       "    <tr>\n",
       "      <th>min</th>\n",
       "      <td>676.530029</td>\n",
       "      <td>70.000000</td>\n",
       "      <td>7.960000</td>\n",
       "      <td>8.850000</td>\n",
       "      <td>1.039047</td>\n",
       "    </tr>\n",
       "    <tr>\n",
       "      <th>25%</th>\n",
       "      <td>1239.874969</td>\n",
       "      <td>109.725000</td>\n",
       "      <td>14.380000</td>\n",
       "      <td>15.570000</td>\n",
       "      <td>1.171313</td>\n",
       "    </tr>\n",
       "    <tr>\n",
       "      <th>50%</th>\n",
       "      <td>1551.434998</td>\n",
       "      <td>120.580002</td>\n",
       "      <td>33.869999</td>\n",
       "      <td>17.268500</td>\n",
       "      <td>1.303297</td>\n",
       "    </tr>\n",
       "    <tr>\n",
       "      <th>75%</th>\n",
       "      <td>2073.010070</td>\n",
       "      <td>132.840004</td>\n",
       "      <td>37.827501</td>\n",
       "      <td>22.882500</td>\n",
       "      <td>1.369971</td>\n",
       "    </tr>\n",
       "    <tr>\n",
       "      <th>max</th>\n",
       "      <td>2872.870117</td>\n",
       "      <td>184.589996</td>\n",
       "      <td>117.480003</td>\n",
       "      <td>47.259998</td>\n",
       "      <td>1.598798</td>\n",
       "    </tr>\n",
       "  </tbody>\n",
       "</table>\n",
       "</div>"
      ],
      "text/plain": [
       "               SPX          GLD          USO          SLV      EUR/USD\n",
       "count  2290.000000  2290.000000  2290.000000  2290.000000  2290.000000\n",
       "mean   1654.315776   122.732875    31.842221    20.084997     1.283653\n",
       "std     519.111540    23.283346    19.523517     7.092566     0.131547\n",
       "min     676.530029    70.000000     7.960000     8.850000     1.039047\n",
       "25%    1239.874969   109.725000    14.380000    15.570000     1.171313\n",
       "50%    1551.434998   120.580002    33.869999    17.268500     1.303297\n",
       "75%    2073.010070   132.840004    37.827501    22.882500     1.369971\n",
       "max    2872.870117   184.589996   117.480003    47.259998     1.598798"
      ]
     },
     "execution_count": 8,
     "metadata": {},
     "output_type": "execute_result"
    }
   ],
   "source": [
    "# getting the statistical measures of the data\n",
    "gold_data.describe()"
   ]
  },
  {
   "cell_type": "markdown",
   "metadata": {},
   "source": [
    "Dropping date column because we want see the correlation between 4 features in the dataset except date"
   ]
  },
  {
   "cell_type": "code",
   "execution_count": 9,
   "metadata": {},
   "outputs": [],
   "source": [
    "gold_data_nodate = gold_data.drop('Date', axis=1)"
   ]
  },
  {
   "cell_type": "code",
   "execution_count": 10,
   "metadata": {},
   "outputs": [
    {
     "data": {
      "text/html": [
       "<div>\n",
       "<style scoped>\n",
       "    .dataframe tbody tr th:only-of-type {\n",
       "        vertical-align: middle;\n",
       "    }\n",
       "\n",
       "    .dataframe tbody tr th {\n",
       "        vertical-align: top;\n",
       "    }\n",
       "\n",
       "    .dataframe thead th {\n",
       "        text-align: right;\n",
       "    }\n",
       "</style>\n",
       "<table border=\"1\" class=\"dataframe\">\n",
       "  <thead>\n",
       "    <tr style=\"text-align: right;\">\n",
       "      <th></th>\n",
       "      <th>SPX</th>\n",
       "      <th>GLD</th>\n",
       "      <th>USO</th>\n",
       "      <th>SLV</th>\n",
       "      <th>EUR/USD</th>\n",
       "    </tr>\n",
       "  </thead>\n",
       "  <tbody>\n",
       "    <tr>\n",
       "      <th>0</th>\n",
       "      <td>1447.160034</td>\n",
       "      <td>84.860001</td>\n",
       "      <td>78.470001</td>\n",
       "      <td>15.180</td>\n",
       "      <td>1.471692</td>\n",
       "    </tr>\n",
       "    <tr>\n",
       "      <th>1</th>\n",
       "      <td>1447.160034</td>\n",
       "      <td>85.570000</td>\n",
       "      <td>78.370003</td>\n",
       "      <td>15.285</td>\n",
       "      <td>1.474491</td>\n",
       "    </tr>\n",
       "    <tr>\n",
       "      <th>2</th>\n",
       "      <td>1411.630005</td>\n",
       "      <td>85.129997</td>\n",
       "      <td>77.309998</td>\n",
       "      <td>15.167</td>\n",
       "      <td>1.475492</td>\n",
       "    </tr>\n",
       "    <tr>\n",
       "      <th>3</th>\n",
       "      <td>1416.180054</td>\n",
       "      <td>84.769997</td>\n",
       "      <td>75.500000</td>\n",
       "      <td>15.053</td>\n",
       "      <td>1.468299</td>\n",
       "    </tr>\n",
       "    <tr>\n",
       "      <th>4</th>\n",
       "      <td>1390.189941</td>\n",
       "      <td>86.779999</td>\n",
       "      <td>76.059998</td>\n",
       "      <td>15.590</td>\n",
       "      <td>1.557099</td>\n",
       "    </tr>\n",
       "  </tbody>\n",
       "</table>\n",
       "</div>"
      ],
      "text/plain": [
       "           SPX        GLD        USO     SLV   EUR/USD\n",
       "0  1447.160034  84.860001  78.470001  15.180  1.471692\n",
       "1  1447.160034  85.570000  78.370003  15.285  1.474491\n",
       "2  1411.630005  85.129997  77.309998  15.167  1.475492\n",
       "3  1416.180054  84.769997  75.500000  15.053  1.468299\n",
       "4  1390.189941  86.779999  76.059998  15.590  1.557099"
      ]
     },
     "execution_count": 10,
     "metadata": {},
     "output_type": "execute_result"
    }
   ],
   "source": [
    "gold_data_nodate.head()"
   ]
  },
  {
   "cell_type": "markdown",
   "metadata": {
    "id": "f9SUQ8hodW4b"
   },
   "source": [
    "Correlation:\n",
    "1. Positive Correlation\n",
    "2. Negative Correlation"
   ]
  },
  {
   "cell_type": "code",
   "execution_count": 11,
   "metadata": {
    "id": "C3xgji81dJUW"
   },
   "outputs": [],
   "source": [
    "correlation = gold_data_nodate.corr()"
   ]
  },
  {
   "cell_type": "code",
   "execution_count": 12,
   "metadata": {
    "colab": {
     "base_uri": "https://localhost:8080/",
     "height": 488
    },
    "id": "oOqb9j0Ad-Zx",
    "outputId": "629a76ce-d91f-459d-c07e-3ab88af34fcf"
   },
   "outputs": [
    {
     "data": {
      "text/plain": [
       "<AxesSubplot:>"
      ]
     },
     "execution_count": 12,
     "metadata": {},
     "output_type": "execute_result"
    },
    {
     "data": {
      "image/png": "[encoded data removed]",
      "text/plain": [
       "<Figure size 576x576 with 2 Axes>"
      ]
     },
     "metadata": {
      "needs_background": "light"
     },
     "output_type": "display_data"
    }
   ],
   "source": [
    "# constructing a heatmap to understand the correlatiom\n",
    "plt.figure(figsize = (8,8))\n",
    "sns.heatmap(correlation, cbar=True, square=True, fmt='.1f',annot=True, annot_kws={'size':8}, cmap='Blues')"
   ]
  },
  {
   "cell_type": "code",
   "execution_count": 13,
   "metadata": {
    "colab": {
     "base_uri": "https://localhost:8080/"
    },
    "id": "qtQ_icjRemI4",
    "outputId": "cec00681-c356-42e4-e4c6-557e6c2b8ccd"
   },
   "outputs": [
    {
     "name": "stdout",
     "output_type": "stream",
     "text": [
      "SPX        0.049345\n",
      "GLD        1.000000\n",
      "USO       -0.186360\n",
      "SLV        0.866632\n",
      "EUR/USD   -0.024375\n",
      "Name: GLD, dtype: float64\n"
     ]
    }
   ],
   "source": [
    "# correlation values of GLD\n",
    "print(correlation['GLD'])"
   ]
  },
  {
   "cell_type": "code",
   "execution_count": 17,
   "metadata": {
    "colab": {
     "base_uri": "https://localhost:8080/",
     "height": 357
    },
    "id": "TMr-xVEwfIKg",
    "outputId": "20e55a70-f442-4821-d6a2-3c3bc9e01226"
   },
   "outputs": [
    {
     "data": {
      "image/png": "[encoded data removed]",
      "text/plain": [
       "<Figure size 432x288 with 1 Axes>"
      ]
     },
     "metadata": {
      "needs_background": "light"
     },
     "output_type": "display_data"
    }
   ],
   "source": [
    "# Checking the distribution of the 'GLD' column\n",
    "sns.histplot(data=gold_data, x='GLD', color='green')\n",
    "\n",
    "# Display the plot\n",
    "plt.show()"
   ]
  },
  {
   "cell_type": "markdown",
   "metadata": {
    "id": "4bdwLbPEfqWI"
   },
   "source": [
    "Splitting the Features and Target"
   ]
  },
  {
   "cell_type": "code",
   "execution_count": 18,
   "metadata": {
    "id": "SJNxCR0vfWxe"
   },
   "outputs": [],
   "source": [
    "X = gold_data.drop(['Date','GLD'],axis=1)\n",
    "Y = gold_data['GLD']"
   ]
  },
  {
   "cell_type": "code",
   "execution_count": 19,
   "metadata": {
    "colab": {
     "base_uri": "https://localhost:8080/"
    },
    "id": "qW9UvLSNf8zH",
    "outputId": "c61137e6-7ab4-491f-c626-d4bda00c48ce"
   },
   "outputs": [
    {
     "name": "stdout",
     "output_type": "stream",
     "text": [
      "              SPX        USO      SLV   EUR/USD\n",
      "0     1447.160034  78.470001  15.1800  1.471692\n",
      "1     1447.160034  78.370003  15.2850  1.474491\n",
      "2     1411.630005  77.309998  15.1670  1.475492\n",
      "3     1416.180054  75.500000  15.0530  1.468299\n",
      "4     1390.189941  76.059998  15.5900  1.557099\n",
      "...           ...        ...      ...       ...\n",
      "2285  2671.919922  14.060000  15.5100  1.186789\n",
      "2286  2697.790039  14.370000  15.5300  1.184722\n",
      "2287  2723.070068  14.410000  15.7400  1.191753\n",
      "2288  2730.129883  14.380000  15.5600  1.193118\n",
      "2289  2725.780029  14.405800  15.4542  1.182033\n",
      "\n",
      "[2290 rows x 4 columns]\n"
     ]
    }
   ],
   "source": [
    "print(X)"
   ]
  },
  {
   "cell_type": "code",
   "execution_count": 20,
   "metadata": {
    "colab": {
     "base_uri": "https://localhost:8080/"
    },
    "id": "lKUe3C-qf9y8",
    "outputId": "cfcf051d-0ec2-4cd5-c504-ceb22b63b5c9"
   },
   "outputs": [
    {
     "name": "stdout",
     "output_type": "stream",
     "text": [
      "0        84.860001\n",
      "1        85.570000\n",
      "2        85.129997\n",
      "3        84.769997\n",
      "4        86.779999\n",
      "           ...    \n",
      "2285    124.589996\n",
      "2286    124.330002\n",
      "2287    125.180000\n",
      "2288    124.489998\n",
      "2289    122.543800\n",
      "Name: GLD, Length: 2290, dtype: float64\n"
     ]
    }
   ],
   "source": [
    "print(Y)"
   ]
  },
  {
   "cell_type": "markdown",
   "metadata": {
    "id": "nv8UohBVgE1Z"
   },
   "source": [
    "Splitting into Training data and Test Data"
   ]
  },
  {
   "cell_type": "code",
   "execution_count": 21,
   "metadata": {
    "id": "KkrUByFugBUn"
   },
   "outputs": [],
   "source": [
    "X_train, X_test, Y_train, Y_test = train_test_split(X, Y, test_size = 0.2, random_state=2)"
   ]
  },
  {
   "cell_type": "markdown",
   "metadata": {
    "id": "1vrCHktWgqfi"
   },
   "source": [
    "Model Training:\n",
    "Random Forest Regressor"
   ]
  },
  {
   "cell_type": "code",
   "execution_count": 22,
   "metadata": {
    "id": "N17qRKKGgoaZ"
   },
   "outputs": [],
   "source": [
    "regressor = RandomForestRegressor(n_estimators=100)"
   ]
  },
  {
   "cell_type": "code",
   "execution_count": 23,
   "metadata": {
    "colab": {
     "base_uri": "https://localhost:8080/"
    },
    "id": "DP2he4-PhMso",
    "outputId": "62c30f51-7e7c-425e-b7f2-47e38bf38513"
   },
   "outputs": [
    {
     "data": {
      "text/plain": [
       "RandomForestRegressor()"
      ]
     },
     "execution_count": 23,
     "metadata": {},
     "output_type": "execute_result"
    }
   ],
   "source": [
    "# training the model\n",
    "regressor.fit(X_train,Y_train)"
   ]
  },
  {
   "cell_type": "markdown",
   "metadata": {
    "id": "SHNFVsr4hbG2"
   },
   "source": [
    "Model Evaluation"
   ]
  },
  {
   "cell_type": "code",
   "execution_count": 24,
   "metadata": {
    "id": "uOLpKKD_hXSl"
   },
   "outputs": [],
   "source": [
    "# prediction on Test Data\n",
    "test_data_prediction = regressor.predict(X_test)"
   ]
  },
  {
   "cell_type": "code",
   "execution_count": 25,
   "metadata": {
    "colab": {
     "base_uri": "https://localhost:8080/"
    },
    "id": "WSIqrLNdhnOr",
    "outputId": "72344c44-af1a-491f-bfc9-8046b55efee2"
   },
   "outputs": [
    {
     "name": "stdout",
     "output_type": "stream",
     "text": [
      "[168.53989903  81.93029976 116.21110011 127.61040115 120.63210114\n",
      " 154.88889751 150.24869822 126.1554002  117.43259859 125.85130134\n",
      " 116.52730095 171.26030058 141.3058983  167.56239853 115.13639992\n",
      " 117.61690069 138.46180344 170.10790016 158.8630036  159.49309897\n",
      " 155.23040046 125.03490008 175.51999978 156.76830252 125.25120028\n",
      "  93.68699961  77.79130012 120.49960012 119.0538992  167.39389954\n",
      "  87.88380043 125.33700026  91.24960061 117.70989995 121.0971991\n",
      " 136.77930107 115.63110096 115.35250073 147.60669997 106.70320075\n",
      " 104.3616027   87.08379762 126.55350067 118.03299983 153.09709918\n",
      " 119.39610005 108.43299943 108.03629828  93.15940031 126.93339796\n",
      "  74.6543006  113.66789937 121.09349995 111.33939901 119.12229903\n",
      " 120.3186     159.19550056 168.20070099 147.01279692  85.77579859\n",
      "  94.21190025  86.85849929  90.64100032 118.98540063 126.30600063\n",
      " 127.57870068 170.25519973 122.29479948 117.34809919  98.51009998\n",
      " 168.50550203 143.16569906 132.11000213 121.26960228 121.84399947\n",
      " 119.90540028 114.42620165 118.23480046 106.92640091 127.75089988\n",
      " 114.09529965 107.49169999 116.7813006  119.55999908  89.05360077\n",
      "  88.25499874 146.57150255 127.30639972 113.65519997 110.65069846\n",
      " 108.06079895  77.18769899 168.03840134 113.96789914 121.66999877\n",
      " 127.85010196 155.05969846  91.68629958 135.88720093 157.9691026\n",
      " 126.26710059 125.27280048 130.60180177 114.82750128 119.6761001\n",
      "  92.02769996 110.26719911 167.59079894 156.79909894 114.15519949\n",
      " 106.40290133  79.64819944 113.20060048 125.73410051 107.19989912\n",
      " 119.32200111 155.91820358 160.07390023 120.1675999  134.8524023\n",
      " 101.54599997 117.78759819 119.28540043 112.82310094 102.7362991\n",
      " 159.90669859  98.46540064 147.5689991  125.46080092 169.70149983\n",
      " 125.6047989  127.29989782 127.47160161 113.69889922 113.01380052\n",
      " 123.54889907 102.23429887  88.92619977 124.70029942 102.21349951\n",
      " 106.76159904 113.43100039 117.47360037  99.14869953 121.73340052\n",
      " 163.31749944  87.3522987  106.79539943 116.94910058 127.61860099\n",
      " 124.01460056  80.56129946 120.55680051 157.82389832  87.77119968\n",
      " 110.37269961 119.05969893 172.12959861 102.92589937 105.45170052\n",
      " 122.63770043 157.97129789  87.78679823  93.3740004  113.16390024\n",
      " 177.17970006 114.52829959 119.3122003   94.78800094 125.87840075\n",
      " 165.95620108 114.73700062 116.62610136  88.32539857 149.16500075\n",
      " 120.2271995   89.47659939 111.4847     117.3564006  118.8623012\n",
      "  88.06739917  94.15930003 117.04869999 118.66490171 120.35560018\n",
      " 126.68169838 121.86879962 149.10100049 164.56150143 118.60179952\n",
      " 120.41160147 150.67970137 118.53679871 172.12269869 104.90879941\n",
      " 104.92240113 150.0047006  113.90980076 124.86530153 147.79719987\n",
      " 119.66830097 115.1812007  112.23880008 113.52500198 140.89140073\n",
      " 117.85859779 102.90460043 115.94970117 103.81720209  98.49770004\n",
      " 117.50710103  90.60660051  91.46520055 153.44939853 102.70120008\n",
      " 155.15510124 114.56310149 138.93830174  90.19579794 115.50399977\n",
      " 114.76200005 122.71230038 121.72830021 165.33240108  93.02199943\n",
      " 136.29100144 121.44449896 120.76020066 104.56230011 143.25000313\n",
      " 121.37189931 116.5945005  113.43770066 126.83489795 122.7759997\n",
      " 125.7581997  121.33989987  86.91049917 132.51350166 144.20280258\n",
      "  92.74179979 159.39469947 158.09280248 126.19239946 164.25289991\n",
      " 108.85609953 110.16870096 103.68349827  94.28530045 127.68520264\n",
      " 107.30300013 161.4766993  121.62660031 131.95070047 130.6659018\n",
      " 160.84359995  90.27889832 174.64240181 127.91820059 126.67729866\n",
      "  86.42859943 124.37989883 150.70589787  89.69119969 107.03629924\n",
      " 109.01749968  84.66969897 135.57840049 154.64840297 138.66980364\n",
      "  74.96520011 152.18710127 126.23089992 126.81339993 127.48229897\n",
      " 108.71709985 156.35830022 114.47470113 116.96740151 125.23339915\n",
      " 153.99460123 121.35359972 156.40789832  92.87680077 125.46220104\n",
      " 125.98050013  87.82850076  92.09919918 126.18719986 128.46440346\n",
      " 112.89000002 117.88229741 120.99009986 126.98219791 119.98490115\n",
      " 136.17630096  93.93649952 119.90760048 113.3941011   94.44559955\n",
      " 108.95009981  87.99179943 108.93409927  89.80029965  92.47480003\n",
      " 131.49590333 162.35160012  89.11040018 119.434301   133.34780198\n",
      " 123.65870013 128.42200179 101.98499861  88.93169866 131.96800088\n",
      " 120.3969006  108.3807995  169.16390171 115.2621002   86.61659879\n",
      " 118.84780072  91.11319956 161.49470114 116.51790068 121.76800007\n",
      " 160.30329833 119.9517993  112.8279993  108.48449856 126.65519972\n",
      "  75.84720058 102.98579977 127.52070273 121.68059966  92.66920057\n",
      " 132.26170004 118.24140103 116.22389967 154.61230295 159.66200092\n",
      " 110.25029944 155.93069846 119.39270095 160.60750081 118.63679998\n",
      " 158.56310064 115.07929965 116.69920029 149.57669949 114.64380061\n",
      " 125.49759888 166.75449983 117.69399999 124.85589922 153.06210357\n",
      " 153.46850247 132.27250001 114.65980027 121.18700228 125.00220112\n",
      "  89.60370056 123.25599982 155.17810175 111.7913002  106.74589965\n",
      " 162.19130161 118.5671     165.75230009 134.15370076 115.00689916\n",
      " 152.94059906 168.25049972 114.99060001 114.33120127 158.10769946\n",
      "  85.33549882 127.0170011  127.69650069 128.94980014 124.35030058\n",
      " 123.86830047  90.51450069 153.26800095  97.11279987 138.22790013\n",
      "  89.04909889 107.54229987 114.92340022 112.67150077 124.3292991\n",
      "  91.324399   125.45610122 162.32849912 119.83689891 165.02840054\n",
      " 126.65589834 112.36050006 127.63379888  94.88399896  90.9716002\n",
      " 103.31619916 120.9323997   83.12699944 126.25199979 159.65550446\n",
      " 117.16550074 118.24649974 119.97529972 122.77179961 119.99140147\n",
      " 121.33720023 118.19440082 107.00309967 148.54280026 126.19799841\n",
      " 115.70320091  74.06820017 127.83130075 154.06730048 122.48559987\n",
      " 125.59080053  88.89140013 103.41849879 124.63660045 120.27920021\n",
      "  73.50610084 151.8620998  120.9516003  104.48590018  86.47809753\n",
      " 115.32099926 172.18299855 120.15700039 160.03309802 113.22379953\n",
      " 121.26350022 118.72210105  95.87009983 119.16679985 125.97530055\n",
      " 118.59109986  95.91920077 153.8945017  122.33459998 147.35179984\n",
      " 159.22740255 114.19689985 122.45789944 150.13809773 127.1279003\n",
      " 165.89439993 135.17790026 120.03940005 167.82109874 108.30719929\n",
      " 121.49089853 138.71990159 106.87279925]\n"
     ]
    }
   ],
   "source": [
    "print(test_data_prediction)"
   ]
  },
  {
   "cell_type": "code",
   "execution_count": 26,
   "metadata": {
    "colab": {
     "base_uri": "https://localhost:8080/"
    },
    "id": "fu7A1hhMhqa9",
    "outputId": "3609de12-2ab2-46fd-c137-7e3777ddd8be"
   },
   "outputs": [
    {
     "name": "stdout",
     "output_type": "stream",
     "text": [
      "R squared error :  0.9891622941086206\n"
     ]
    }
   ],
   "source": [
    "# R squared error\n",
    "error_score = metrics.r2_score(Y_test, test_data_prediction)\n",
    "print(\"R squared error : \", error_score)"
   ]
  },
  {
   "cell_type": "markdown",
   "metadata": {
    "id": "f1fiqOMkiZNL"
   },
   "source": [
    "Compare the Actual Values and Predicted Values in a Plot"
   ]
  },
  {
   "cell_type": "code",
   "execution_count": 27,
   "metadata": {
    "id": "QoC4g_tBiE4A"
   },
   "outputs": [],
   "source": [
    "Y_test = list(Y_test)"
   ]
  },
  {
   "cell_type": "code",
   "execution_count": 28,
   "metadata": {
    "colab": {
     "base_uri": "https://localhost:8080/",
     "height": 295
    },
    "id": "sMSVMVtFijxo",
    "outputId": "34404933-1a9f-4e34-93f2-790c9665cad7"
   },
   "outputs": [
    {
     "data": {
      "image/png": "[encoded data removed]",
      "text/plain": [
       "<Figure size 432x288 with 1 Axes>"
      ]
     },
     "metadata": {
      "needs_background": "light"
     },
     "output_type": "display_data"
    }
   ],
   "source": [
    "plt.plot(Y_test, color='blue', label = 'Actual Value')\n",
    "plt.plot(test_data_prediction, color='green', label='Predicted Value')\n",
    "plt.title('Actual Price vs Predicted Price')\n",
    "plt.xlabel('Number of values')\n",
    "plt.ylabel('GLD Price')\n",
    "plt.legend()\n",
    "plt.show()"
   ]
  }
 ],
 "metadata": {
  "colab": {
   "provenance": []
  },
  "kernelspec": {
   "display_name": "Python 3",
   "language": "python",
   "name": "python3"
  },
  "language_info": {
   "codemirror_mode": {
    "name": "ipython",
    "version": 3
   },
   "file_extension": ".py",
   "mimetype": "text/x-python",
   "name": "python",
   "nbconvert_exporter": "python",
   "pygments_lexer": "ipython3",
   "version": "3.8.8"
  }
 },
 "nbformat": 4,
 "nbformat_minor": 1
}
